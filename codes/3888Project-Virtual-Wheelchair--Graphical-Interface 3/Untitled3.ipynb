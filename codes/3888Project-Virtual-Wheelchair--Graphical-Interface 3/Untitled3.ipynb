{
 "cells": [
  {
   "cell_type": "code",
   "execution_count": 5,
   "metadata": {},
   "outputs": [],
   "source": [
    "import csv\n",
    "from matplotlib import pyplot as plt\n",
    "import pandas as pd\n",
    "filename = 'training_set_2.csv'\n",
    "\n",
    "with open(filename) as f:\n",
    "    reader=csv.reader(f)\n",
    "    row_data=[]\n",
    "    i = 0\n",
    "    for row in reader:\n",
    "        if i < 200:\n",
    "            data=row[0]\n",
    "            row_data.append(data)\n",
    "            i=i+1\n",
    "            if i == 200:\n",
    "                dataframe = pd.DataFrame({'1':row_data})\n",
    "                \n",
    "dataframe.to_csv(\"test.csv\",index=False,sep=',')\n",
    "\n",
    "\n",
    "\n",
    "with open(\"1.csv\", 'a')as f:\n",
    "    f_csv.writerows(rows)\n",
    "    f.close()\n",
    "\n",
    "file_name ='1.csv'\n",
    "headers = ['企业信息', '人员信息']\n",
    "rows = [{'企业信息':'c_detail', '人员信息':'123'}]\n",
    "write_csv(file_name, headers, rows)\n",
    "\n"
   ]
  },
  {
   "cell_type": "code",
   "execution_count": null,
   "metadata": {},
   "outputs": [],
   "source": []
  }
 ],
 "metadata": {
  "kernelspec": {
   "display_name": "Python 3",
   "language": "python",
   "name": "python3"
  },
  "language_info": {
   "codemirror_mode": {
    "name": "ipython",
    "version": 3
   },
   "file_extension": ".py",
   "mimetype": "text/x-python",
   "name": "python",
   "nbconvert_exporter": "python",
   "pygments_lexer": "ipython3",
   "version": "3.7.7"
  }
 },
 "nbformat": 4,
 "nbformat_minor": 4
}
