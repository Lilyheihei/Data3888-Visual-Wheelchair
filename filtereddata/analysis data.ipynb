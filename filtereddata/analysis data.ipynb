{
 "cells": [
  {
   "cell_type": "code",
   "execution_count": 16,
   "metadata": {},
   "outputs": [],
   "source": [
    "import csv\n",
    "import os\n",
    "import time\n",
    "import wave as we\n",
    "import numpy as np\n",
    "from sys import argv\n",
    "import pandas as pd\n",
    "import matplotlib.pyplot as plt\n",
    "from scipy import signal, stats \n",
    "from scipy.signal import butter, lfilter"
   ]
  },
  {
   "cell_type": "code",
   "execution_count": 17,
   "metadata": {},
   "outputs": [],
   "source": [
    "#Filter: Moving Average and High Pass Butter\n",
    "\n",
    "def moving_average(a, n=3) :\n",
    "    ret = np.cumsum(a, dtype=float)\n",
    "    ret[n:] = ret[n:] - ret[:-n]\n",
    "    return ret[n - 1:] / n\n",
    "\n",
    "def butter_highpass(cutoff, fs, order=2):\n",
    "    nyq = 0.5 * fs\n",
    "    normal_cutoff = cutoff / nyq\n",
    "    b, a = signal.butter(order, normal_cutoff, btype='high', analog=False)\n",
    "    return b, a\n",
    "\n",
    "def butter_highpass_filter(data, cutoff, fs, order=6):\n",
    "    b, a = butter_highpass(cutoff, fs, order=order)\n",
    "    y = signal.filtfilt(b, a, data)\n",
    "    return y"
   ]
  },
  {
   "cell_type": "code",
   "execution_count": 18,
   "metadata": {},
   "outputs": [
    {
     "ename": "FileNotFoundError",
     "evalue": "[Errno 2] No such file or directory: '/Users/lily/Desktop/data3888/data_final/training_set_2.dat'",
     "output_type": "error",
     "traceback": [
      "\u001b[0;31m---------------------------------------------------------------------------\u001b[0m",
      "\u001b[0;31mFileNotFoundError\u001b[0m                         Traceback (most recent call last)",
      "\u001b[0;32m<ipython-input-18-2aa1c5a2f376>\u001b[0m in \u001b[0;36m<module>\u001b[0;34m\u001b[0m\n\u001b[0;32m----> 1\u001b[0;31m \u001b[0;32mwith\u001b[0m \u001b[0mopen\u001b[0m\u001b[0;34m(\u001b[0m\u001b[0;34m\"/Users/lily/Desktop/data3888/data_final/training_set_2.dat\"\u001b[0m\u001b[0;34m)\u001b[0m \u001b[0;32mas\u001b[0m \u001b[0mf\u001b[0m\u001b[0;34m:\u001b[0m\u001b[0;34m\u001b[0m\u001b[0;34m\u001b[0m\u001b[0m\n\u001b[0m\u001b[1;32m      2\u001b[0m     \u001b[0mx\u001b[0m \u001b[0;34m=\u001b[0m \u001b[0mf\u001b[0m\u001b[0;34m.\u001b[0m\u001b[0mread\u001b[0m\u001b[0;34m(\u001b[0m\u001b[0;34m)\u001b[0m\u001b[0;34m.\u001b[0m\u001b[0msplitlines\u001b[0m\u001b[0;34m(\u001b[0m\u001b[0;34m)\u001b[0m\u001b[0;34m\u001b[0m\u001b[0;34m\u001b[0m\u001b[0m\n\u001b[1;32m      3\u001b[0m \u001b[0mfrequency\u001b[0m \u001b[0;34m=\u001b[0m \u001b[0;36m10000\u001b[0m\u001b[0;34m\u001b[0m\u001b[0;34m\u001b[0m\u001b[0m\n\u001b[1;32m      4\u001b[0m \u001b[0mfs\u001b[0m \u001b[0;34m=\u001b[0m \u001b[0mfrequency\u001b[0m\u001b[0;34m\u001b[0m\u001b[0;34m\u001b[0m\u001b[0m\n\u001b[1;32m      5\u001b[0m \u001b[0mlength\u001b[0m \u001b[0;34m=\u001b[0m \u001b[0mlen\u001b[0m\u001b[0;34m(\u001b[0m\u001b[0mx\u001b[0m\u001b[0;34m)\u001b[0m\u001b[0;34m\u001b[0m\u001b[0;34m\u001b[0m\u001b[0m\n",
      "\u001b[0;31mFileNotFoundError\u001b[0m: [Errno 2] No such file or directory: '/Users/lily/Desktop/data3888/data_final/training_set_2.dat'"
     ]
    }
   ],
   "source": [
    "with open(\"/Users/lily/Desktop/data3888/data_final/training_set_2.dat\") as f:\n",
    "    x = f.read().splitlines()\n",
    "frequency = 10000\n",
    "fs = frequency\n",
    "length = len(x)\n",
    "indices = np.arange(0,length,1)                  #TAKES A PORTION OF THE DATA\n",
    "TAKEN = np.take(x, indices)\n",
    "\n",
    "string = \",\".join(TAKEN)                        #PUTS INTO ONE STRING SEPARATED BY A COMMA BUT STILL WITH SPACES\n",
    "stringnew = string.replace(\" \", \"\")             #REMOVES SPACES\n",
    "list = stringnew.split(',')                     #SPLITS SUCH THAT IT IS A LIST WITH STRINGS EG ['796.0', '742.0' ...]\n",
    "arr = np.array(list)\n",
    "arr = arr.astype(np.float)                      #TURNS INTO AN ARRAY OF FLOATS\n",
    "\n",
    "filtered = moving_average(arr,1000)            #MOVING AVERAGE DATA\n",
    "filtlength = len(filtered)\n",
    "\n",
    "indices2 = np.arange(1,filtlength+1,1)#UPDATE INDICES FOR MOVING AVERAGE\n",
    "T = indices2 / frequency\n",
    "\n",
    "fc = 15  # Cut-off frequency of the filter\n",
    "w = fc / (fs / 2) # Normalize the frequency\n",
    "b, a = signal.butter(5, w, 'low')\n",
    "output= signal.filtfilt(b, a, filtered) \n",
    "\n",
    "TWindow = 1.2    # observation interval given in seconds\n",
    "TMax = np.max(T)  # maximum time recorded\n",
    "dT = T[1]-T[0] # dT\n",
    "NWindow = int(round(TWindow/dT))   # number of points in Window\n",
    "VALUELIST = []\n",
    "TIMELIST = []\n",
    "\n",
    "for k in range(0,int(round(TMax/TWindow))): #for loop with how many windows fit in time in this case its 240 (#2)\n",
    "\n",
    "    if k == 0:\n",
    "        noise_level = np.mean(output[0:NWindow])\n",
    "        threshold_level = 1.05 * noise_level    #arbitrary value I picked\n",
    "        thresh=threshold_level - noise_level\n",
    "\n",
    "\n",
    "    window_index_beginning = 1+NWindow*(k-1)\n",
    "    window_index_end = NWindow+NWindow*(k-1)\n",
    "    window_index_range = range(window_index_beginning, window_index_end)        #MAIN WINDOW PARAMETERS\n",
    "    indices = np.arange(window_index_beginning, window_index_end+1, 1)\n",
    "\n",
    "    Tlil = indices / frequency                                                  #TIME IN WINDOW\n",
    "    array = np.take(output,indices)                                             #VALUES IN WINDOW\n",
    "\n",
    "\n",
    "    maxwindow = np.max(array)\n",
    "    maxindi = np.where(array == maxwindow)\n",
    "    maxT = Tlil[maxindi[0]]   #GIVES TIME FOR MAX VALUE\n",
    "    minwindow = np.min(array)\n",
    "    window_val_range = maxwindow - minwindow\n",
    "\n",
    "    if window_val_range > thresh*1.5:\n",
    "        #print(\"got window\",k)\n",
    "        array2 = array - noise_level\n",
    "        maxwindow = abs(np.max(array2)) #can find abs value of greatest deviation from noiselevel\n",
    "        maxindi = np.where(array2 == maxwindow)\n",
    "        maxT = Tlil[maxindi[0]]   #where abs(max) occurs in unit time\n",
    "        indexT = Tlil*frequency\n",
    "        # print(indexT)\n",
    "\n",
    "        new_window_index_beginning = maxindi[0] - NWindow\n",
    "        new_window_index_end = maxindi[0] + NWindow\n",
    "        new_window_index_range = range(window_index_beginning, window_index_end)  # WINDOW PARAMETERS\n",
    "        new_indices = np.arange(window_index_beginning, window_index_end + 1, 1)\n",
    "\n",
    "        new_T = new_indices / frequency\n",
    "        new_array = np.take(output, new_indices)\n",
    "        #print(new_T)  #SHOWS NEW WINDOW IN SECONDS\n",
    "        \n",
    "\n",
    "fig = plt.figure(figsize=(50, 30))             #PLOT MOVING AVERAGE\n",
    "plt.plot(T,output)\n",
    "plt.show()"
   ]
  },
  {
   "cell_type": "code",
   "execution_count": 22,
   "metadata": {},
   "outputs": [
    {
     "name": "stdout",
     "output_type": "stream",
     "text": [
      "69.6459632522992\n"
     ]
    }
   ],
   "source": [
    "#checking noise ratio \n",
    "with open(\"/Users/lily/Desktop/data3888/filtereddata/training_2.dat\") as f:\n",
    "    x = f.read().splitlines()\n",
    "    x = np.array(x).astype(np.float)\n",
    "\n",
    "def signaltonoise(data, axis=0, ddof=0):\n",
    "    data = np.asanyarray(data)\n",
    "    m = data.mean(axis)\n",
    "    sd = data.std(axis=axis, ddof=ddof)\n",
    "    return np.where(sd == 0, 0, m/sd)\n",
    "\n",
    "\n",
    "noise_ratio = signaltonoise(x, axis=0, ddof=0)\n",
    "print(noise_ratio)"
   ]
  },
  {
   "cell_type": "code",
   "execution_count": 200,
   "metadata": {},
   "outputs": [
    {
     "name": "stdout",
     "output_type": "stream",
     "text": [
      "10.16018782761592\n",
      "6.925735922458598\n",
      "8.18062370751979\n",
      "1.030337923560787\n"
     ]
    }
   ],
   "source": [
    "#SD of left\n",
    "i=1\n",
    "left_total = []\n",
    "while i < 11:\n",
    "    filename = 'filtereddata/left'+str(i)+'.dat'\n",
    "    array = np.loadtxt(filename)\n",
    "    var_left = np.var(array)\n",
    "    left_total.append(np.sqrt(var_left))\n",
    "    i+=1\n",
    "# range\n",
    "left_max_sd = max(left_total)\n",
    "left_min_sd = min(left_total)\n",
    "print(left_max_sd)\n",
    "print(left_min_sd)\n",
    "# mean of SD\n",
    "left_mean_SD = np.mean(left_total)\n",
    "print(left_mean_SD)\n",
    "# sd of sd \n",
    "left_sd_SD = np.sqrt(np.var(left_total))\n",
    "print(left_sd_SD)\n"
   ]
  },
  {
   "cell_type": "code",
   "execution_count": 201,
   "metadata": {},
   "outputs": [
    {
     "name": "stdout",
     "output_type": "stream",
     "text": [
      "6.110328941578203\n",
      "2.605670853601645\n",
      "4.242351315509719\n",
      "1.1336186829861947\n"
     ]
    }
   ],
   "source": [
    "#SD of blink\n",
    "i=1\n",
    "blink_total = []\n",
    "while i < 11:\n",
    "    filename = 'filtereddata/blink'+str(i)+'.dat'\n",
    "    array = np.loadtxt(filename)\n",
    "    \n",
    "    var_blink = np.var(array)\n",
    "    blink_total.append(np.sqrt(var_blink))\n",
    "    i+=1\n",
    "# range\n",
    "blink_max_sd = max(blink_total)\n",
    "blink_min_sd = min(blink_total)\n",
    "print(blink_max_sd)\n",
    "print(blink_min_sd)\n",
    "# mean of SD\n",
    "blink_mean_SD = np.mean(blink_total)\n",
    "print(blink_mean_SD)\n",
    "# sd of sd \n",
    "blink_sd_SD = np.sqrt(np.var(blink_total))\n",
    "print(blink_sd_SD)"
   ]
  },
  {
   "cell_type": "code",
   "execution_count": 202,
   "metadata": {},
   "outputs": [
    {
     "name": "stdout",
     "output_type": "stream",
     "text": [
      "17.60371830023415\n",
      "10.698615265392547\n",
      "12.345555719854904\n",
      "1.8942559495295712\n"
     ]
    }
   ],
   "source": [
    "#SD of right\n",
    "i=1\n",
    "right_total = []\n",
    "while i < 11:\n",
    "    filename = 'filtereddata/right'+str(i)+'.dat'\n",
    "    array = np.loadtxt(filename)\n",
    "    var_right = np.var(array)\n",
    "    right_total.append(np.sqrt(var_right))\n",
    "    i+=1\n",
    "# range\n",
    "right_max_sd = max(right_total)\n",
    "right_min_sd = min(right_total)\n",
    "print(right_max_sd)\n",
    "print(right_min_sd)\n",
    "    \n",
    "# mean of SD\n",
    "right_mean_SD = np.mean(right_total)\n",
    "print(right_mean_SD)\n",
    "# sd of sd \n",
    "right_sd_SD = np.sqrt(np.var(right_total))\n",
    "print(right_sd_SD)"
   ]
  },
  {
   "cell_type": "code",
   "execution_count": 203,
   "metadata": {},
   "outputs": [
    {
     "name": "stdout",
     "output_type": "stream",
     "text": [
      "51.22539870061582\n",
      "4.046691058945064\n",
      "27.324143414112104\n",
      "16.95505596917002\n"
     ]
    }
   ],
   "source": [
    "#SD of doubleblink\n",
    "i=1\n",
    "doubleblink_total = []\n",
    "while i < 11:\n",
    "    filename = 'filtereddata/doubleblink'+str(i)+'.dat'\n",
    "    array = np.loadtxt(filename)\n",
    "    var_doubleblink = np.var(array)\n",
    "    doubleblink_total.append(np.sqrt(var_doubleblink))\n",
    "    i+=1\n",
    "# range\n",
    "doubleblink_max_sd = max(doubleblink_total)\n",
    "doubleblink_min_sd = min(doubleblink_total)\n",
    "print(doubleblink_max_sd)\n",
    "print(doubleblink_min_sd)\n",
    "\n",
    "# mean of SD\n",
    "doubleblink_mean_SD = np.mean(doubleblink_total)\n",
    "print(doubleblink_mean_SD)\n",
    "# sd of sd \n",
    "doubleblink_sd_SD = np.sqrt(np.var(doubleblink_total))\n",
    "print(doubleblink_sd_SD)"
   ]
  },
  {
   "cell_type": "code",
   "execution_count": 209,
   "metadata": {},
   "outputs": [
    {
     "name": "stdout",
     "output_type": "stream",
     "text": [
      "[0.00000000e+00 3.26592465e-02 6.53184930e-02 ... 4.99993468e+03\n",
      " 4.99996734e+03 5.00000000e+03]\n",
      "[2.13279118e+21 4.75462134e+17 3.24242193e+17 ... 3.83730694e+17\n",
      " 3.21137823e+17 9.25112364e+16]\n"
     ]
    }
   ],
   "source": [
    "iSampleRate = 10000             \n",
    "x_left = np.fromfile(\"filtereddata/left3.dat\",dtype=np.float32)\n",
    "iSampleCount_left = x_left.shape[0]           \n",
    "t_left = np.linspace(0,iSampleCount_left/iSampleRate,iSampleCount_left)\n",
    "\n",
    "xFFT_left = np.abs(np.fft.rfft(x_left)/iSampleCount_left)  \n",
    "xFreqs_left = np.linspace(0, iSampleRate/2, int(iSampleCount_left/2)+1)\n",
    "\n",
    "print(xFreqs_left)\n",
    "print(xFFT_left)"
   ]
  },
  {
   "cell_type": "code",
   "execution_count": 210,
   "metadata": {},
   "outputs": [
    {
     "name": "stdout",
     "output_type": "stream",
     "text": [
      "[0.00000000e+00 3.26592465e-02 6.53184930e-02 ... 4.99993468e+03\n",
      " 4.99996734e+03 5.00000000e+03]\n",
      "[2.13318543e+21 2.38329499e+17 2.29355954e+17 ... 2.32597315e+17\n",
      " 3.09511405e+17 6.73160087e+16]\n"
     ]
    }
   ],
   "source": [
    "x_right = np.fromfile(\"filtereddata/right3.dat\",dtype=np.float32)\n",
    "iSampleCount_right = x_right.shape[0]           \n",
    "t_right = np.linspace(0,iSampleCount_right/iSampleRate,iSampleCount_right)\n",
    "\n",
    "xFFT_right = np.abs(np.fft.rfft(x_right)/iSampleCount_right)  \n",
    "xFreqs_right = np.linspace(0, iSampleRate/2, int(iSampleCount_right/2)+1)\n",
    "print(xFreqs_right)\n",
    "print(xFFT_right)\n"
   ]
  },
  {
   "cell_type": "code",
   "execution_count": 211,
   "metadata": {},
   "outputs": [
    {
     "name": "stdout",
     "output_type": "stream",
     "text": [
      "[0.00000000e+00 3.26592465e-02 6.53184930e-02 ... 4.99993468e+03\n",
      " 4.99996734e+03 5.00000000e+03]\n",
      "[2.13318736e+21 2.52727185e+17 4.10454837e+17 ... 9.32281293e+16\n",
      " 1.13379267e+17 2.60143016e+17]\n"
     ]
    }
   ],
   "source": [
    "x_blink = np.fromfile(\"filtereddata/blink3.dat\",dtype=np.float32)\n",
    "iSampleCount_blink = x_blink.shape[0]           \n",
    "t_blink = np.linspace(0,iSampleCount_blink/iSampleRate,iSampleCount_blink)\n",
    "\n",
    "xFFT_blink = np.abs(np.fft.rfft(x_blink)/iSampleCount_blink)  \n",
    "xFreqs_blink = np.linspace(0, iSampleRate/2, int(iSampleCount_blink/2)+1)\n",
    "print(xFreqs_blink)\n",
    "print(xFFT_blink)"
   ]
  },
  {
   "cell_type": "code",
   "execution_count": 212,
   "metadata": {},
   "outputs": [
    {
     "name": "stdout",
     "output_type": "stream",
     "text": [
      "[0.00000000e+00 3.26592465e-02 6.53184930e-02 ... 4.99993468e+03\n",
      " 4.99996734e+03 5.00000000e+03]\n",
      "[2.13310181e+21 1.45497746e+17 5.09474462e+17 ... 4.44359570e+17\n",
      " 3.28449503e+17 1.60294783e+17]\n"
     ]
    }
   ],
   "source": [
    "x_doubleblink = np.fromfile(\"filtereddata/doubleblink3.dat\",dtype=np.float32)\n",
    "iSampleCount_doubleblink = x_doubleblink.shape[0]           \n",
    "t_doubleblink = np.linspace(0,iSampleCount_doubleblink/iSampleRate,iSampleCount_doubleblink)\n",
    "\n",
    "xFFT_doubleblink = np.abs(np.fft.rfft(x_doubleblink)/iSampleCount_doubleblink)  \n",
    "xFreqs_doubleblink = np.linspace(0, iSampleRate/2, int(iSampleCount_doubleblink/2)+1)\n",
    "print(xFreqs_doubleblink)\n",
    "print(xFFT_doubleblink)"
   ]
  },
  {
   "cell_type": "code",
   "execution_count": 24,
   "metadata": {},
   "outputs": [
    {
     "name": "stdout",
     "output_type": "stream",
     "text": [
      "7.368751981481932\n",
      "7.368751981481932\n",
      "7.368751981481933\n",
      "8.881784197001252e-16\n"
     ]
    }
   ],
   "source": [
    "#SD of training set \n",
    "i=1\n",
    "test = []\n",
    "while i < 11:\n",
    "    filename = '/Users/lily/Desktop/data3888/filtereddata/training_2.dat'\n",
    "    array = np.loadtxt(filename)\n",
    "    var_test = np.var(array)\n",
    "    test.append(np.sqrt(var_test))\n",
    "    i+=1\n",
    "# range\n",
    "test_max_sd = max(test)\n",
    "test_min_sd = min(test)\n",
    "print(test_max_sd)\n",
    "print(test_min_sd)\n",
    "# mean of SD\n",
    "test_mean_SD = np.mean(test)\n",
    "print(test_mean_SD)\n",
    "# sd of sd \n",
    "test_sd_SD = np.sqrt(np.var(test))\n",
    "print(test_sd_SD)"
   ]
  },
  {
   "cell_type": "code",
   "execution_count": 26,
   "metadata": {},
   "outputs": [
    {
     "name": "stdout",
     "output_type": "stream",
     "text": [
      "[0.00000000e+00 1.33471254e-03 2.66942507e-03 ... 4.99999733e+03\n",
      " 4.99999867e+03 5.00000000e+03]\n",
      "[2.13339418e+21 1.92406343e+16 1.17032751e+16 ... 7.32783013e+16\n",
      " 1.89114314e+16 1.57575044e+15]\n"
     ]
    }
   ],
   "source": [
    "iSampleRate = 10000\n",
    "x_test = np.fromfile(\"/Users/lily/Desktop/data3888/filtereddata/training_2.dat\",dtype=np.float32)\n",
    "iSampleCount_test = x_test.shape[0]           \n",
    "t_test = np.linspace(0,iSampleCount_test/iSampleRate,iSampleCount_test)\n",
    "\n",
    "xFFT_test = np.abs(np.fft.rfft(x_test)/iSampleCount_test)  \n",
    "xFreqs_test = np.linspace(0, iSampleRate/2, int(iSampleCount_test/2)+1)\n",
    "print(xFreqs_test)\n",
    "print(xFFT_test)"
   ]
  },
  {
   "cell_type": "code",
   "execution_count": null,
   "metadata": {},
   "outputs": [],
   "source": [
    "for i in "
   ]
  }
 ],
 "metadata": {
  "kernelspec": {
   "display_name": "Python 3",
   "language": "python",
   "name": "python3"
  },
  "language_info": {
   "codemirror_mode": {
    "name": "ipython",
    "version": 3
   },
   "file_extension": ".py",
   "mimetype": "text/x-python",
   "name": "python",
   "nbconvert_exporter": "python",
   "pygments_lexer": "ipython3",
   "version": "3.7.1"
  }
 },
 "nbformat": 4,
 "nbformat_minor": 2
}
